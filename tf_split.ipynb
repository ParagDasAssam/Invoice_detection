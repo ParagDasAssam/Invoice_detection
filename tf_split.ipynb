{
 "cells": [
  {
   "cell_type": "code",
   "execution_count": null,
   "metadata": {},
   "outputs": [],
   "source": []
  }
 ],
 "metadata": {
  "accelerator": "GPU",
  "colab": {
   "collapsed_sections": [
    "FIqnjbWYsuQw",
    "2FKFq8RXs6bs",
    "MFyCeiBb9BbS"
   ],
   "name": "Copy of ROBOFLOW-tensorflow-object-detection-faster-rcnn.ipynb",
   "provenance": [
    {
     "file_id": "1U3fkRu6-hwjk7wWIpg-iylL2u5T9t7rr",
     "timestamp": 1592286237670
    },
    {
     "file_id": "1osmBdH1T1utaf1FkHEb5RZ9Qbdy0J32y",
     "timestamp": 1583131829731
    },
    {
     "file_id": "1wTMIrJhYsQdq_u7ROOkf0Lu_fsX5Mu8a",
     "timestamp": 1582911986689
    },
    {
     "file_id": "https://github.com/Tony607/object_detection_demo/blob/master/tensorflow_object_detection_training_colab.ipynb",
     "timestamp": 1581243505514
    }
   ]
  },
  "kernelspec": {
   "display_name": "Python 3",
   "language": "python",
   "name": "python3"
  },
  "language_info": {
   "codemirror_mode": {
    "name": "ipython",
    "version": 3
   },
   "file_extension": ".py",
   "mimetype": "text/x-python",
   "name": "python",
   "nbconvert_exporter": "python",
   "pygments_lexer": "ipython3",
   "version": "3.6.1"
  }
 },
 "nbformat": 4,
 "nbformat_minor": 1
}
